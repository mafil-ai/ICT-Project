{
 "cells": [
  {
   "cell_type": "markdown",
   "id": "e04e8512",
   "metadata": {},
   "source": [
    " Imports"
   ]
  },
  {
   "cell_type": "code",
   "execution_count": null,
   "id": "2823c1a0",
   "metadata": {},
   "outputs": [],
   "source": [
    "from bs4 import BeautifulSoup\n",
    "import requests\n",
    "import json"
   ]
  },
  {
   "cell_type": "code",
   "execution_count": 2,
   "id": "fbea41f6",
   "metadata": {},
   "outputs": [],
   "source": [
    "url = \"https://www.manappuram.com/sitemap.xml\"\n",
    "headers = {'User-Agent': 'Mozilla/5.0 (Windows NT 10.0; Win64; x64) AppleWebKit/537.36'}"
   ]
  },
  {
   "cell_type": "code",
   "execution_count": 3,
   "id": "0fec31ea",
   "metadata": {},
   "outputs": [
    {
     "name": "stdout",
     "output_type": "stream",
     "text": [
      "Status code: 200\n",
      "Content type: application/xml; charset=utf-8\n"
     ]
    }
   ],
   "source": [
    "response = requests.get(url, headers=headers)\n",
    "print(f\"Status code: {response.status_code}\")\n",
    "print(f\"Content type: {response.headers.get('content-type')}\")"
   ]
  },
  {
   "cell_type": "markdown",
   "id": "30b87464",
   "metadata": {},
   "source": [
    "URL extraction"
   ]
  },
  {
   "cell_type": "code",
   "execution_count": 4,
   "id": "703688a0",
   "metadata": {},
   "outputs": [],
   "source": [
    "# Extract URLs\n",
    "soup_xml = BeautifulSoup(response.content, 'xml')\n",
    "xml_urls = []\n",
    "\n",
    "for loc in soup_xml.find_all('loc'):\n",
    "    if loc.text:\n",
    "        xml_urls.append(loc.text.strip())"
   ]
  },
  {
   "cell_type": "code",
   "execution_count": 5,
   "id": "33a62f5a",
   "metadata": {},
   "outputs": [
    {
     "name": "stdout",
     "output_type": "stream",
     "text": [
      "URLs found with XML parsing: 624\n"
     ]
    }
   ],
   "source": [
    "print(f\"URLs found with XML parsing: {len(xml_urls)}\")"
   ]
  },
  {
   "cell_type": "code",
   "execution_count": 6,
   "id": "9eb0f516",
   "metadata": {},
   "outputs": [
    {
     "name": "stdout",
     "output_type": "stream",
     "text": [
      "URLs saved to 'urls.json'\n"
     ]
    }
   ],
   "source": [
    "# Save URLs to urls.json\n",
    "with open('urls.json', 'w', encoding='utf-8') as f:\n",
    "    json.dump(xml_urls, f, indent=2)\n",
    "\n",
    "print(\"URLs saved to 'urls.json'\")"
   ]
  }
 ],
 "metadata": {
  "kernelspec": {
   "display_name": "llm",
   "language": "python",
   "name": "python3"
  },
  "language_info": {
   "codemirror_mode": {
    "name": "ipython",
    "version": 3
   },
   "file_extension": ".py",
   "mimetype": "text/x-python",
   "name": "python",
   "nbconvert_exporter": "python",
   "pygments_lexer": "ipython3",
   "version": "3.13.2"
  }
 },
 "nbformat": 4,
 "nbformat_minor": 5
}
