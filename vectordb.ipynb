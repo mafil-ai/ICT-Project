{
 "cells": [
  {
   "cell_type": "markdown",
   "id": "75422da1",
   "metadata": {},
   "source": [
    "Imports"
   ]
  },
  {
   "cell_type": "code",
   "execution_count": 1,
   "id": "a7a8b24d",
   "metadata": {},
   "outputs": [],
   "source": [
    "import os\n",
    "import re\n",
    "import chromadb\n",
    "import uuid\n",
    "\n",
    "from langchain.text_splitter import RecursiveCharacterTextSplitter\n",
    "from langchain_google_genai import GoogleGenerativeAIEmbeddings\n",
    "from dotenv import load_dotenv"
   ]
  },
  {
   "cell_type": "markdown",
   "id": "0165b056",
   "metadata": {},
   "source": [
    "Configuration"
   ]
  },
  {
   "cell_type": "code",
   "execution_count": 2,
   "id": "1f9dc2d5",
   "metadata": {},
   "outputs": [],
   "source": [
    "load_dotenv()\n",
    "# Configure API key for Google Generative AI\n",
    "genai_api_key = os.getenv(\"GOOGLE_API_KEY\")\n",
    "embeddings = GoogleGenerativeAIEmbeddings(model=\"models/text-embedding-004\")"
   ]
  },
  {
   "cell_type": "markdown",
   "id": "88618718",
   "metadata": {},
   "source": [
    "Data ingestion"
   ]
  },
  {
   "cell_type": "code",
   "execution_count": 3,
   "id": "f2cda1b9",
   "metadata": {},
   "outputs": [
    {
     "data": {
      "text/plain": [
       "\"# Manappuram Website Content\\n\\n## Source: https://www.manappuram.com/\\n\\nNBFC Loans - Business, Gold, Personal, Vehicle & More | Manappuram Finance Skip to main content Happy being a 'farmer'Play Video Most affordable Gold LoanRead more Business AssociatesEnquire now Vehicle & Equipment FinanceRead More ONLINE GOLD LOANWith our new online gold loan facility, you can avail gold loan 24x7, from anywhere in the world!Get startedGold loan in 3 easy stepsQuick and simpleInstant loan DisbursementMinimum \""
      ]
     },
     "execution_count": 3,
     "metadata": {},
     "output_type": "execute_result"
    }
   ],
   "source": [
    "with open('manappuram_content.md','r',encoding='utf-8') as a:\n",
    "    text = a.read()\n",
    "\n",
    "text[:500]"
   ]
  },
  {
   "cell_type": "markdown",
   "id": "c4487745",
   "metadata": {},
   "source": [
    "Text-splitting\n"
   ]
  },
  {
   "cell_type": "code",
   "execution_count": 4,
   "id": "51622419",
   "metadata": {},
   "outputs": [],
   "source": [
    "chunks = []\n",
    "\n",
    "# Initialize text splitter \n",
    "splitter = RecursiveCharacterTextSplitter(\n",
    "    chunk_size=5000, \n",
    "    chunk_overlap=500,\n",
    "    separators = [\"\\n---\\n\", \"\\n\\n\", \"\\n\", \" \", \"\"]\n",
    "    )"
   ]
  },
  {
   "cell_type": "code",
   "execution_count": 5,
   "id": "ff8a5a8b",
   "metadata": {},
   "outputs": [
    {
     "name": "stdout",
     "output_type": "stream",
     "text": [
      "Split into 1108 chunks with URL metadata\n"
     ]
    }
   ],
   "source": [
    "# Split the text by the separator pattern to get sections\n",
    "sections = re.split(r'\\n---\\n', text.strip())\n",
    "\n",
    "for section in sections:\n",
    "    section = section.strip()\n",
    "    if not section:\n",
    "        continue\n",
    "    \n",
    "    # Extract URL from each section\n",
    "    url_match = re.match(r'## Source: (https?://[^\\n]+)', section)\n",
    "    \n",
    "    if url_match:\n",
    "        url = url_match.group(1)\n",
    "        # Remove the URL line from the content\n",
    "        content = re.sub(r'## Source: https?://[^\\n]+\\n*', '', section, count=1)\n",
    "        content = content.strip()\n",
    "        \n",
    "        if content:  # Only process if there's actual content\n",
    "            # Split the content into smaller chunks\n",
    "            content_chunks = splitter.split_text(content)\n",
    "            \n",
    "            # Add each chunk with its URL metadata\n",
    "            for chunk in content_chunks:\n",
    "                chunks.append({\n",
    "                    'text': chunk,\n",
    "                    'url': url\n",
    "                })\n",
    "\n",
    "print(f\"Split into {len(chunks)} chunks with URL metadata\")"
   ]
  },
  {
   "cell_type": "code",
   "execution_count": 6,
   "id": "f73c7964",
   "metadata": {},
   "outputs": [],
   "source": [
    "# Extract just the text and metadata for ChromaDB\n",
    "chunk_texts = [chunk['text'] for chunk in chunks]\n",
    "chunk_urls = [chunk['url'] for chunk in chunks]"
   ]
  },
  {
   "cell_type": "code",
   "execution_count": 7,
   "id": "a6f5bb60",
   "metadata": {},
   "outputs": [
    {
     "name": "stdout",
     "output_type": "stream",
     "text": [
      "Creating embeddings...\n",
      "Created 1108 embeddings\n"
     ]
    }
   ],
   "source": [
    "# Create embeddings\n",
    "print(\"Creating embeddings...\")\n",
    "vectors = embeddings.embed_documents(chunk_texts)\n",
    "print(f\"Created {len(vectors)} embeddings\")"
   ]
  },
  {
   "cell_type": "code",
   "execution_count": 8,
   "id": "156f5ea6",
   "metadata": {},
   "outputs": [],
   "source": [
    "# Generate IDs and metadata with URLs\n",
    "ids = [str(uuid.uuid4()) for _ in range(len(chunks))]\n",
    "metadata = [{\"source\": \"manappuram_website\", \"chunk_index\": i, \"url\": chunk_urls[i]} \n",
    "           for i in range(len(chunks))]"
   ]
  },
  {
   "cell_type": "markdown",
   "id": "ae5e22fd",
   "metadata": {},
   "source": [
    "Vector database-setup\n"
   ]
  },
  {
   "cell_type": "code",
   "execution_count": 9,
   "id": "6893c968",
   "metadata": {},
   "outputs": [
    {
     "name": "stdout",
     "output_type": "stream",
     "text": [
      "Vector database created successfully.\n",
      "Stored 1108 chunks in ChromaDB with URL metadata\n"
     ]
    }
   ],
   "source": [
    "# Save into chromadb\n",
    "client = chromadb.PersistentClient(path='./chromadb')\n",
    "collection = client.get_or_create_collection(name=\"data\")\n",
    "\n",
    "try:\n",
    "    # Store the embedding in ChromaDB\n",
    "    collection.add(\n",
    "        documents=chunk_texts, \n",
    "        embeddings=vectors, \n",
    "        ids=ids, \n",
    "        metadatas=metadata\n",
    "    )\n",
    "    print(\"Vector database created successfully.\")\n",
    "    print(f\"Stored {len(chunks)} chunks in ChromaDB with URL metadata\")\n",
    "    \n",
    "except Exception as e:\n",
    "    print(f\"Error creating Vector database: {e}\")"
   ]
  },
  {
   "cell_type": "code",
   "execution_count": 10,
   "id": "7facb476",
   "metadata": {},
   "outputs": [
    {
     "name": "stdout",
     "output_type": "stream",
     "text": [
      "\n",
      "First 3 chunks preview:\n",
      "Chunk 1 URL: https://www.manappuram.com/blogs/flexibility-gold-loans\n",
      "Content preview: The flexibility of gold loans | Manappuram Finance Limited Skip to main content BlogRead our blogs f...\n",
      "---\n",
      "Chunk 2 URL: https://www.manappuram.com/blogs/flexibility-gold-loans\n",
      "Content preview: the quality and quantity of the gold you provide. However, the amount you get will not go above the ...\n",
      "---\n",
      "Chunk 3 URL: https://www.manappuram.com/blogs/reasons-why-gold-loan-inexpensive\n",
      "Content preview: Reasons why a gold loan is inexpensive | Manappuram Finance Limited Skip to main content BlogRead ou...\n",
      "---\n"
     ]
    }
   ],
   "source": [
    "# Optional: Preview first few chunks with their URLs\n",
    "print(\"\\nFirst 3 chunks preview:\")\n",
    "for i in range(min(3, len(chunks))):\n",
    "    print(f\"Chunk {i+1} URL: {chunk_urls[i]}\")\n",
    "    print(f\"Content preview: {chunk_texts[i][:100]}...\")\n",
    "    print(\"---\")"
   ]
  },
  {
   "cell_type": "markdown",
   "id": "d530e305",
   "metadata": {},
   "source": [
    "Testing"
   ]
  },
  {
   "cell_type": "code",
   "execution_count": 12,
   "id": "2be80a17",
   "metadata": {},
   "outputs": [],
   "source": [
    "from langchain_chroma import Chroma\n",
    "from dotenv import load_dotenv\n",
    "\n",
    "load_dotenv()\n",
    "# Configure API key for Google Generative AI\n",
    "genai_api_key = os.getenv(\"GOOGLE_API_KEY\")"
   ]
  },
  {
   "cell_type": "code",
   "execution_count": 13,
   "id": "b4119736",
   "metadata": {},
   "outputs": [],
   "source": [
    "# Initialize ChromaDB\n",
    "embeddings = GoogleGenerativeAIEmbeddings(model=\"models/text-embedding-004\")\n",
    "vectorstore = Chroma(collection_name=\"data\",embedding_function=embeddings, persist_directory='./chromadb')"
   ]
  },
  {
   "cell_type": "code",
   "execution_count": 14,
   "id": "7a417be9",
   "metadata": {},
   "outputs": [
    {
     "name": "stdout",
     "output_type": "stream",
     "text": [
      "document =  for now, the fact is, investors who put money into gold are often those seeking a safe haven investment, especially at a time of valid fears about currency debasement causing a resurgence of inflation. The US Fed has printed money at a frenetic pace after the pandemic, and the run-up in inflation has already begun. In April this year, US consumer price inflation registered an increase of 4.2% over the year, with equally hefty increases in the months following. Yet, gold price has not gained as conventional wisdom would suggest.The Bitcoin FactorThat brings us to Bitcoin and the outsized gains this cryptocurrency has posted over the last one to one-and-half years. Consider the period from 7 August 2020 onwards. That was the day that gold price had hit a peak of US$ 2,062 per ounce and Bitcoin was trading at US$11,592 per digital coin. Fast forward to recent days (first week of September) when gold trades at about US$ 1,812, a decline of 12% from the peak, while Bitcoin is fetching US$ 49,999 apiece, more than 4 times the level on 7 August 2020. The below table plots the difference in price between one Bitcoin and one troy ounce of gold, and it shows how much Bitcoin has gained over gold in recent months. Chart 2: US Dollar vs. Bitcoin – Difference in US$ price between one Bitcoin and one ounce of GoldBitcoin is a decentralized digital currency without a central bank or single administrator which can also be transferred from user to user on the peer-to-peer bitcoin network which does not need intermediaries. Transactions are recorded in a public distributed ledger called a block chain after they are verified by network nodes using codes (cryptography) which also ensures anonymity for the users. The currency began use in 2009 when its implementation was released as open-source software.The idea behind a decentralized cryptocurrency was to eliminate centralized control of money from government agencies. An alternate currency, outside the purview of governments and government agencies, is an idea with merit and appeals to our instinct or gut feeling.By design, Bitcoin limits the maximum number of bitcoins that can be generated to 21 million. This is cited as an advantage over paper currency that can be printed at will by central banks. Besides, its design makes it especially useful for international transfers which would attract currency conversion charges otherwise, and also carry settlement and counterparty risks. Another point in favour of Bitcoin is that you don’t need a bank account to transact with Bitcoins.However, the drawbacks are also equally, if not more, substantial. Firstly, it is not backed by any physical asset and that makes it just like any fiat or paper currency. Secondly, a very important function of currency is to act as a store of value. The sheer volatility in Bitcoin prices makes it unreliable as a store of value though speculators would find it attractive. Thirdly, in its role as a currency for day-to-day transactions, it suffers from systemic limitations such as painfully slow transaction speeds. That’s because each transaction requires validation by a network of other users called “miners” who solve complex mathematical problems to verify the transactions on the network. The miners get rewarded by bitcoins based on their success in solving such problems.The below able shows the month-to-month volatility in the price of Bitcoin since 2013 which points to its unsuitability as a store of value.Bitcoin is a decentralized digital currency without a central bank or single administrator which can also be transferred from user to user on the peer-to-peer bitcoin network which does not need intermediaries. Transactions are recorded in a public distributed ledger called a block chain after they are verified by network nodes using codes (cryptography) which also ensures anonymity for the users. The currency began use in 2009 when its implementation was released as open-source software.The idea behind a decentralized cryptocurrency was to eliminate centralized control of money from government agencies. An alternate currency, outside the purview of governments and government agencies, is an idea with merit and appeals to our instinct or gut feeling.By design, Bitcoin limits the maximum number of bitcoins that can be generated to 21 million. This is cited as an advantage over paper currency that can be printed at will by central banks. Besides, its design makes it especially useful for international transfers which would attract currency conversion charges otherwise, and also carry settlement and counterparty risks. Another point in favour of Bitcoin is that you don’t need a bank account to transact with Bitcoins.However, the drawbacks are also equally, if not more, substantial. Firstly, it is not backed by any physical asset and that makes it just like any fiat or paper currency. Secondly, a very important function of currency is to act as a store of value. The sheer volatility in Bitcoin prices \n",
      " metadata = https://www.manappuram.com/blogs/bitcoin-taking-sheen-gold\n",
      "document =  Is Bitcoin Taking the Sheen Off Gold? | Manappuram Finance Limited Skip to main content BlogRead our blogs for expert insights, tips, and strategies to empower your financial journey with us. Discover a wealth of knowledge about gold loans. Is Bitcoin Taking the Sheen Off Gold? September 23, 2021NewsManappuram Finance Share I write in continuation of my earlier article “Gold: Outlook for 2021 and the competition from crypto currencies” published in the February 2021 issue of this magazine. In that article, I had looked at how investors, uncomfortable with the surge in money printing by central banks, have fuelled a rush of money into digital cryptocurrency. The returns on gold during calendar year 2021 were far outstripped by the multi-fold rise in Bitcoin and other digital cryptocurrencies. Consequently, investors wary of the US dollar in this age of unprecedented fiscal and monetary stimulus, were shifting a part of their portfolio from gold to bitcoins. The size of the market for cryptocurrencies had reached a third of private sector gold investments in just a decade. I had concluded with the observation that had Bitcoin not emerged as an alternative, gold prices would have continued to move up to new peaks.Now, looking at subsequent developments, in FY 2020, gold prices were steadily on the ascendant and closed with substantial gains of more than 24%. However, in FY 2021, gold did touch a record of USD 2,062 per ounce on 7 August 2020 but all the gains were given up by the end of the year to close flat at USD 1,685 per ounce. This was, of course, the year that bore the brunt of the pandemic. Due to prolonged lockdowns and other containment measures, the world economy had suffered much damage. The US GDP plunged by 32.9% (annualised) in the June 2020 quarter while the full year GDP declined 3.5%, its worst year since World War II ended. Likewise, India’s GDP contracted by a record 23.9% in the June 2020 quarter while its full year GDP for FY 2021 shrank by 7.3%.Central banks respond to the pandemicResponding to the economic distress, central banks around the world stepped up monetary stimulus. The US Fed Funds rate was dropped to near zero, and from June 2020 onwards, they began a new round of quantitative easing to pump money and shore up the economy. The US Fed is currently injecting liquidity to the tune of US $ 120 billion every month by purchasing $80 billion worth of US treasury bonds and $40 billion worth of mortgage-backed securities (to support the real estate market). This money is all newly created money, in other words, created out of thin air.Further, to alleviate distress among ordinary people, the US government also added fiscal stimulus as part of Covid relief. By the time Joe Biden took over as President, most Americans barring the wealthy had already received two payments of $1200 and $600 per person. After the passage of President Joe Biden’s $1.9 trillion American Rescue Plan in March 2021, millions of Americans have received a further one-time direct payment of up to $1,400 each. On top of all this, the US Federal government has been providing an extra weekly payment of US$300 to all its unemployed citizens (which expires in September 2021).The US was not alone. When financial conditions began to tighten in March 2020, most central banks in the advanced economies rapidly injected liquidity through market operations and purchased government bonds to support market functioning. Other measures to support economic activity included lower policy rates, the introduction of new or expanded asset purchase programs, and schemes to lower longer-term interest rates and to support the flow of credit to businesses and households. Chart 1: Money Supply Growth in Major Advanced Economies With all this free money sloshing around, and with interest rates held at near zero levels, conventional wisdom would suggest that the price of gold should have shot through the roof. However, the reality is that after the peak of US$2,062 on 7 August 2020, gold prices ended up correcting sharply and touched a low of US$1,685 on 31 March 2021. Since then, it has gained somewhat but continues to struggle to hold levels above US$1,800.What could be the reasons or the likely factors holding down gold and preventing its rise to the levels expected of it? Many analysts would point to the strength of the recovery in the global economy and the rapid gains in the stock market as factors shifting money away from gold. While this is true for now, the fact is, investors who put money into gold are often those seeking a safe haven investment, especially at a time of valid fears about currency debasement causing a resurgence of inflation. The US Fed has printed money at a frenetic pace after the pandemic, and the run-up in inflation has already begun. In April this year, US consumer price inflation registered an increase of 4.2% over the year, with equally hefty increases in the months following. Yet, gold price has not gained \n",
      " metadata = https://www.manappuram.com/blogs/bitcoin-taking-sheen-gold\n",
      "document =  to fears of a resurgence in inflation. Forecasters believe that gold prices are headed higher for the next year with targets of $2,150 and $2,390 (per ounce) on concerns about slower-than-expected global economic recovery and the increased injection of money into the economy as part of stimulus measures. Credit Suisse expects gold to continue its upward trajectory and average $2,100/oz in 2021, peaking at $2,200/oz in the third quarter, but a tad low from their previous estimate of $2,500/oz. Goldman Sachs holds a $2,300-per-ounce price target for gold, implying prices higher by 20%+ from current levels. Cryptocurrency, an emerging contender for safe haven status? Investors are becoming uncomfortable with the surge in money printing by central banks and that has also led to the ongoing rush of investments into digital cryptocurrency. The balance sheet of the US Federal Reserve has jumped from $4 trillion to around $7 trillion in 2020, a 75% growth in a single year, thereby expanding the supply of dollars at an unprecedented pace. The debasement of the US dollar has been a major source of support to gold prices. However, the returns on gold during the year have been far outstripped by the multi-fold rise in digital cryptocurrencies. Bitcoin, the most famous of the cryptocurrencies, rose 700% in 2020 and, over the course of the last 5 years, it has given returns of 85 times! As a result, investors are considering shifting a part of their portfolios from gold to bitcoins. Unlike fiat currencies like the dollar or the rupee, the supply of a cryptocurrency cannot be increased by any government or central bank, a fact that gives great comfort to its investors. JPMorgan claims that the red-hot cryptocurrency could rally as high as $146,000 as it competes with gold as an “alternative” currency. Bitcoin’s market cap currently stands at $600 billion. According to JPMorgan, it would have to climb by 4.6 times to match the $2.7 trillion of private sector gold investment. While Bitcoin leads the Cryptos, it is followed by Ethereum with a market cap of $150 billion, and Steller, XRP, Tether, Chainlink with $25 billion market capitalization. All put together, the top 20 cryptocurrencies have a combined market cap of $900 billion. Today, the size of the crypto market has reached a third of the private sector gold investments (a third of this gold is held by Indian households) in just a decade. (Bitcoin, the first ever crypto currency, came into existence in late 2009.) A pertinent question that comes to mind is, what would have been the price of gold today had Bitcoin (and other crypto currencies) not come into existence? It’s a question that has no hard and fast answers. However, one can be sure that had Bitcoin not emerged as an alternative, gold prices would have continued to march on to new record highs. Published in Unique Times Magazine, January 2021(V.P. Nandakumar is MD & CEO of Manappuram Finance Ltd. Views are personal.) Previous BlogInterest rates in India likely to riseNext BlogConverting large NBFCs to banks: is it warranted?Post Comments Name Email MessagePost Comment Trending Blogs How do we ensure the safety of your Gold in our branches? Nov 05 2021 6 min read The Sun Sets on an Iconic American Company Oct 11 2022 10 min readRecent Blogs What Documents Are Required for a Gold Loan in India 2025? May 30 2025 5 min read What is the Typical Duration of a Gold Loan? May 30 2025 4 min read What is the Minimum Weight Required for a Gold Loan? May 30 2025 5 min read What Are the New RBI Guidelines for Taking Gold Loans in 2025? May 30 2025 5 min read What Types of Gold Are Eligible for a Gold Loan: An Expert Guide May 30 2025 5 min read \n",
      " metadata = https://www.manappuram.com/blogs/gold-outlook-2021-and-competition-crypto-currencies\n",
      "document =  5 things to know before investing in Bitcoin | Manappuram Finance Limited Skip to main content BlogRead our blogs for expert insights, tips, and strategies to empower your financial journey with us. Discover a wealth of knowledge about gold loans. 5 things to know before investing in Bitcoin January 06, 2018NewsManappuram Finance Share Bitcoin is the new currency and Bitcoin mining and trading is the new passion for speculators. This crypto-currency has seen a large growth in demand in the past few years. Though the RBI has expressed some concern regarding the security of Bitcoin, this currency has generated curiosity resulting in more and more people jumping on to the bandwagon.What is a Bitcoin?Bitcoin is a decentralised digital currency that can be used for making payments and can be traded and converted into any white paper currency. Bitcoin is a virtual currency, encrypted with unique digital codes. Each Bitcoin is assigned a specific number or code to provide a distinctive identity. Each transaction is recorded in a digital ledger via blockchain technology.Bitcoin in IndiaThough RBI has not provided licences to companies to trade in cryptocurrencies, many e-commercial companies like Amazon and Flipkart have started providing vouchers to Bitcoin holders. You can buy Bitcoin online and save it in your digital wallet. There are various Bitcoin exchanges available in India such as Zebplay, Unicorn, Bitxoxo, etc.Things to know before investing in Bitcoin:Bitcoin mining: Bitcoin mining is an activity through which you could mine a Bitcoin by solving a math problem. The complexity of the problem increases as more members join. Due to increasing popularity of Bitcoin mining, more and more members are joining. This growth has resulted into pool mining, wherein many independent miners join to form a group to solve a particular problem.Expensive investment: The cost of acquiring even a single Bitcoin is now prettyhigh; it’s an expensive and a speculative investment. Of course, you can opt to buy a tiny portion of Bitcoin called Satoshi. 10 crore Satoshi forms a single Bitcoin.Value of Bitcoin: The value of Bitcoin is notching up new heights every day. The current value of a single Bitcoin is approx. 10 Lakh Rupees.Risky, but high returns: Due to the absence of a regulatory body for Bitcoin, investing in it is not much different from gambling. The risks are high, but the expected returns are huge as well.Huge market capitalisation: Bitcoin's current market capitalisation is more than twice that of India's most valued companies. The increasing popularity of Bitcoin has expanded its global reach. Though some countries have criticised the use of this crypto-currency, investors in countries like the US and the UK have welcomed it with open arms.Like every other avenue for investment, investing in a Bitcoin has its own set of pros and cons. Rather just being the part of the herd, invest wisely. Invest only if you understand the concept and fundamentals of the Bitcoin, because wise investing begins when you spend your money wisely. Previous BlogWorld Diabetes Day Brings India’s Diabetes Challenge To The ForeNext BlogDon’t Ignore Gold as an Investment OptionPost Comments Name Email MessagePost Comment Trending Blogs How do we ensure the safety of your Gold in our branches? Nov 05 2021 6 min read The Sun Sets on an Iconic American Company Oct 11 2022 10 min readRecent Blogs What Documents Are Required for a Gold Loan in India 2025? May 30 2025 5 min read What is the Typical Duration of a Gold Loan? May 30 2025 4 min read What is the Minimum Weight Required for a Gold Loan? May 30 2025 5 min read What Are the New RBI Guidelines for Taking Gold Loans in 2025? May 30 2025 5 min read What Types of Gold Are Eligible for a Gold Loan: An Expert Guide May 30 2025 5 min read \n",
      " metadata = https://www.manappuram.com/blogs/5-things-know-investing-bitcoin\n"
     ]
    }
   ],
   "source": [
    "results = vectorstore.similarity_search(\n",
    "    \"bitcoin gold\"\n",
    ")\n",
    "for res in results:\n",
    "    print(f\"document =  {res.page_content} \\n metadata = {res.metadata['url']}\")"
   ]
  }
 ],
 "metadata": {
  "kernelspec": {
   "display_name": "llm",
   "language": "python",
   "name": "python3"
  },
  "language_info": {
   "codemirror_mode": {
    "name": "ipython",
    "version": 3
   },
   "file_extension": ".py",
   "mimetype": "text/x-python",
   "name": "python",
   "nbconvert_exporter": "python",
   "pygments_lexer": "ipython3",
   "version": "3.13.2"
  }
 },
 "nbformat": 4,
 "nbformat_minor": 5
}
